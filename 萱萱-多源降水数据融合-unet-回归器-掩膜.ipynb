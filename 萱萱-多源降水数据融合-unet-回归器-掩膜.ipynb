{
 "cells": [
  {
   "cell_type": "code",
   "execution_count": 3,
   "id": "ef308104-e40d-4c3c-ac1a-686de36ba828",
   "metadata": {},
   "outputs": [],
   "source": [
    "import Auto_paint_self"
   ]
  },
  {
   "cell_type": "code",
   "execution_count": 4,
   "id": "70c3dac5-6513-4dcc-a540-7f29f814f0cf",
   "metadata": {},
   "outputs": [],
   "source": [
    "CHM_PRE,lon,lat,levels,latlow,lattop,lonleft,lonright,times=Auto_paint_self.open_data_nc('one',r'E:\\Multi-Sources_Precipitation_NC_2001_2022\\CHM_PRE_China_2001_2022_2.nc','Pre','yes','time','2001-01-01','2022-12-31','yes','lon','yes','lat',18.0,53.5,73.5,135.0,0.25,0.25,'no','no',None,None,changeresolution=1,timespace=1,ifchange_west_east='no',ifinterpolate='no')\n",
    "CMO_RPH,lon,lat,levels,latlow,lattop,lonleft,lonright,times=Auto_paint_self.open_data_nc('one',r'E:\\Multi-Sources_Precipitation_NC_2001_2022\\CMORPH_China_2001_2022_2.nc','Pre','yes','time','2001-01-01','2022-12-31','yes','lon','yes','lat',18.0,53.5,73.5,135.0,0.25,0.25,'no','no',None,None,changeresolution=1,timespace=1,ifchange_west_east='no',ifinterpolate='no')\n",
    "ERA5_PRE,lon,lat,levels,latlow,lattop,lonleft,lonright,times=Auto_paint_self.open_data_nc('one',r'E:\\Multi-Sources_Precipitation_NC_2001_2022\\ERA5_China_2001_2022_2.nc','Pre','yes','time','2001-01-01','2022-12-31','yes','lon','yes','lat',18.0,53.5,73.5,135.0,0.25,0.25,'no','no',None,None,changeresolution=1,timespace=1,ifchange_west_east='no',ifinterpolate='no')\n",
    "GPM_PRE,lon,lat,levels,latlow,lattop,lonleft,lonright,times=Auto_paint_self.open_data_nc('one',r'E:\\Multi-Sources_Precipitation_NC_2001_2022\\GPM_China_2001_2022_2.nc','Pre','yes','time','2001-01-01','2022-12-31','yes','lon','yes','lat',18.0,53.5,73.5,135.0,0.25,0.25,'no','no',None,None,changeresolution=1,timespace=1,ifchange_west_east='no',ifinterpolate='no')\n",
    "GSMAP_PRE,lon,lat,levels,latlow,lattop,lonleft,lonright,times=Auto_paint_self.open_data_nc('one',r'E:\\Multi-Sources_Precipitation_NC_2001_2022\\GSMAP_China_2001_2022_2.nc','Pre','yes','time','2001-01-01','2022-12-31','yes','lon','yes','lat',18.0,53.5,73.5,135.0,0.25,0.25,'no','no',None,None,changeresolution=1,timespace=1,ifchange_west_east='no',ifinterpolate='no')\n",
    "MSWEP_PRE,lon,lat,levels,latlow,lattop,lonleft,lonright,times=Auto_paint_self.open_data_nc('one',r'E:\\Multi-Sources_Precipitation_NC_2001_2022\\MSWEP_China_2001_2022_2.nc','Pre','yes','time','2001-01-01','2022-12-31','yes','lon','yes','lat',18.0,53.5,73.5,135.0,0.25,0.25,'no','no',None,None,changeresolution=1,timespace=1,ifchange_west_east='no',ifinterpolate='no')\n",
    "PERSIANN_CDR_PRE,lon,lat,levels,latlow,lattop,lonleft,lonright,times=Auto_paint_self.open_data_nc('one',r'E:\\Multi-Sources_Precipitation_NC_2001_2022\\PERSIANN_CDR_PRE_China_2001_2022_2.nc','Pre','yes','time','2001-01-01','2022-12-31','yes','lon','yes','lat',18.0,53.5,73.5,135.0,0.25,0.25,'no','no',None,None,changeresolution=1,timespace=1,ifchange_west_east='no',ifinterpolate='no')"
   ]
  },
  {
   "cell_type": "code",
   "execution_count": 5,
   "id": "9ee55db0-ddd8-4140-ba39-be5ca62d94a5",
   "metadata": {},
   "outputs": [
    {
     "name": "stderr",
     "output_type": "stream",
     "text": [
      "C:\\Users\\TBYC\\AppData\\Local\\Temp\\ipykernel_175264\\3698730732.py:10: RuntimeWarning: invalid value encountered in divide\n",
      "  vx=(vx-np.nanmean(vx,axis=0))/np.nanstd(vx,axis=0)\n"
     ]
    }
   ],
   "source": [
    "import numpy as np\n",
    "vx=np.zeros((CMO_RPH.shape[0],CMO_RPH.shape[1],CMO_RPH.shape[2],6))\n",
    "vx[:,:,:,0]=CMO_RPH\n",
    "vx[:,:,:,1]=ERA5_PRE\n",
    "vx[:,:,:,2]=GPM_PRE\n",
    "vx[:,:,:,3]=GSMAP_PRE\n",
    "vx[:,:,:,4]=MSWEP_PRE\n",
    "vx[:,:,:,5]=PERSIANN_CDR_PRE\n",
    "vx=np.nan_to_num(vx,nan=0)\n",
    "vx=(vx-np.nanmean(vx,axis=0))/np.nanstd(vx,axis=0)"
   ]
  },
  {
   "cell_type": "code",
   "execution_count": 7,
   "id": "1f5bafe7-d5e9-4132-88e9-4f2f0e0c32eb",
   "metadata": {},
   "outputs": [
    {
     "name": "stdout",
     "output_type": "stream",
     "text": [
      "41/41 [==============================] - 3s 25ms/step\n"
     ]
    },
    {
     "name": "stderr",
     "output_type": "stream",
     "text": [
      "F:\\anaconda\\envs\\tensorflow\\lib\\site-packages\\numpy\\lib\\nanfunctions.py:1879: RuntimeWarning: Degrees of freedom <= 0 for slice.\n",
      "  var = nanvar(a, axis=axis, dtype=dtype, out=out, ddof=ddof,\n",
      "C:\\Users\\TBYC\\AppData\\Local\\Temp\\ipykernel_175264\\24706048.py:20: RuntimeWarning: Mean of empty slice\n",
      "  predicty=predicty*np.nanstd(CHM_PRE,axis=0)+np.nanmean(CHM_PRE,axis=0)\n"
     ]
    },
    {
     "name": "stdout",
     "output_type": "stream",
     "text": [
      "0.6151126967231928\n"
     ]
    }
   ],
   "source": [
    "from keras.models import load_model\n",
    "import tensorflow as tf\n",
    "from scipy.stats import pearsonr\n",
    "gpus = tf.config.list_physical_devices('GPU')\n",
    "try:\n",
    "    # 设置只使用 GPU 0\n",
    "    tf.config.set_visible_devices(gpus[1], 'GPU')\n",
    "    # 设置 GPU 0 的内存动态增长\n",
    "    tf.config.experimental.set_memory_growth(gpus[1], True)\n",
    "except RuntimeError as e:\n",
    "    print(e)\n",
    "index=int((1-0.2)*CHM_PRE.shape[0])\n",
    "trainy=CHM_PRE[:index,:,:]\n",
    "testy=CHM_PRE[index:,:,:]\n",
    "trainx=vx[:index,:,:,:]\n",
    "testx=vx[index:,:,:,:]\n",
    "model=load_model(r'E:/xuanxuan/xuanxuan_unet')\n",
    "predicty=model.predict(testx,batch_size=40)\n",
    "predicty=predicty.reshape(predicty.shape[0],predicty.shape[1],predicty.shape[2])\n",
    "predicty=predicty*np.nanstd(CHM_PRE,axis=0)+np.nanmean(CHM_PRE,axis=0)\n",
    "r=np.zeros((testx.shape[1],testx.shape[2]))\n",
    "p=np.zeros((testx.shape[1],testx.shape[2]))\n",
    "for i in range(testx.shape[1]):\n",
    "    for j in range(testx.shape[2]):\n",
    "        if np.isnan(testy[:,i,j]).any() or np.isnan(predicty[:,i,j]).any():\n",
    "            r[i,j],p[i,j]=np.nan,np.nan\n",
    "        else:\n",
    "            r[i,j],p[i,j] = pearsonr(predicty[:,i,j],testy[:,i,j])\n",
    "print(np.nanmean(r))"
   ]
  },
  {
   "cell_type": "code",
   "execution_count": null,
   "id": "f15a6693-a3cd-4afd-81f9-02e79ec025fe",
   "metadata": {},
   "outputs": [],
   "source": []
  }
 ],
 "metadata": {
  "kernelspec": {
   "display_name": "tensorflow",
   "language": "python",
   "name": "tensorflow"
  },
  "language_info": {
   "codemirror_mode": {
    "name": "ipython",
    "version": 3
   },
   "file_extension": ".py",
   "mimetype": "text/x-python",
   "name": "python",
   "nbconvert_exporter": "python",
   "pygments_lexer": "ipython3",
   "version": "3.9.19"
  }
 },
 "nbformat": 4,
 "nbformat_minor": 5
}
