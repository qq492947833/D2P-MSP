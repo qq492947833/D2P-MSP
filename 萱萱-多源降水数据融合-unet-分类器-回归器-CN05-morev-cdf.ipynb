{
 "cells": [
  {
   "cell_type": "code",
   "execution_count": 1,
   "id": "ef308104-e40d-4c3c-ac1a-686de36ba828",
   "metadata": {},
   "outputs": [],
   "source": [
    "import Auto_paint_self"
   ]
  },
  {
   "cell_type": "code",
   "execution_count": 2,
   "id": "70c3dac5-6513-4dcc-a540-7f29f814f0cf",
   "metadata": {},
   "outputs": [
    {
     "name": "stderr",
     "output_type": "stream",
     "text": [
      "F:\\anaconda\\envs\\tensorflow\\lib\\site-packages\\xarray\\coding\\times.py:170: SerializationWarning: Ambiguous reference date string: 1-1-1 00:00:00. The first value is assumed to be the year hence will be padded with zeros to remove the ambiguity (the padded reference date string is: 0001-1-1 00:00:00). To remove this message, remove the ambiguity by padding your reference date strings with zeros.\n",
      "  warnings.warn(warning_msg, SerializationWarning)\n"
     ]
    }
   ],
   "source": [
    "CN05_PRE,lon,lat,levels,latlow,lattop,lonleft,lonright,times=Auto_paint_self.open_data_nc('one',r'E:\\CN05.1_Pre_1961_2021_daily_025x025.nc','pre','yes','time','2001-01-01','2017-10-19','yes','lon','yes','lat',18.0,53.5,73.5,135.0,0.25,0.25,'no','no',None,None,changeresolution=1,timespace=1,ifchange_west_east='no',ifinterpolate='no')\n",
    "predicty,lon,lat,levels,latlow,lattop,lonleft,lonright,times=Auto_paint_self.open_data_nc('one','E:/xuanxuan/unet_pre_predicty_CN05_morev.nc','predicty','yes','time','2017-10-20','2021-12-31','yes','lon','yes','lat',18.0,53.5,73.5,135.0,0.25,0.25,'no','no',None,None,changeresolution=1,timespace=1,ifchange_west_east='no',ifinterpolate='no')\n",
    "testy,lon,lat,levels,latlow,lattop,lonleft,lonright,times=Auto_paint_self.open_data_nc('one','E:/xuanxuan/unet_pre_testy_CN05_morev.nc','testy','yes','time','2017-10-20','2021-12-31','yes','lon','yes','lat',18.0,53.5,73.5,135.0,0.25,0.25,'no','no',None,None,changeresolution=1,timespace=1,ifchange_west_east='no',ifinterpolate='no')"
   ]
  },
  {
   "cell_type": "code",
   "execution_count": 4,
   "id": "f599b01c-68c1-49bf-9130-0d9d159d13cb",
   "metadata": {},
   "outputs": [],
   "source": [
    "import numpy as np\n",
    "CN05_PRE=np.nan_to_num(CN05_PRE,nan=0)"
   ]
  },
  {
   "cell_type": "code",
   "execution_count": 5,
   "id": "586f1d84-ff71-48c5-bf26-16ca48c15fef",
   "metadata": {},
   "outputs": [],
   "source": [
    "#CDF匹配\n",
    "def Auto_cdf_matching(vx,vy):\n",
    "    import numpy as np\n",
    "    from scipy.interpolate import InterpolatedUnivariateSpline\n",
    "    from scipy.optimize import curve_fit\n",
    "\n",
    "    if np.array(vx).ndim==1:\n",
    "        vx_cdf = (np.arange(len(vx)) +  1) / (len(vx))\n",
    "        vy_cdf = (np.arange(len(vy)) +  1) / (len(vy))\n",
    "        \n",
    "        spl = InterpolatedUnivariateSpline(vx_cdf, np.sort(vx))\n",
    "        vx_interp = spl(vy_cdf)\n",
    "        \n",
    "        def func(x, a, b, c, d):\n",
    "            return a*x + b*x**2 + c*x**3 + d\n",
    "        \n",
    "        popt = curve_fit(func, vx_interp, np.sort(vy))[0]\n",
    "        \n",
    "        matched_vx = func(vx, *popt)\n",
    "    elif np.array(vx).ndim==2:\n",
    "        matched_vx=np.zeros((vx.shape[0],vx.shape[1]))\n",
    "        for i in range(vx.shape[1]):\n",
    "            vx_cdf = (np.arange(len(vx[:,i])) +  1) / (len(vx[:,i]))\n",
    "            vy_cdf = (np.arange(len(vy[:,i])) +  1) / (len(vy[:,i]))\n",
    "            \n",
    "            spl = InterpolatedUnivariateSpline(vx_cdf, np.sort(vx[:,i]))\n",
    "            vx_interp = spl(vy_cdf)\n",
    "            \n",
    "            def func(x, a, b, c, d):\n",
    "                return a*x + b*x**2 + c*x**3 + d\n",
    "            \n",
    "            popt = curve_fit(func, vx_interp, np.sort(vy[:,i]))[0]\n",
    "            \n",
    "            matched_vx[:,i] = func(vx[:,i], *popt)\n",
    "    elif np.array(vx).ndim==3:\n",
    "        matched_vx=np.zeros((vx.shape[0],vx.shape[1],vx.shape[2]))\n",
    "        for i in range(vx.shape[1]):\n",
    "            for j in range(vx.shape[2]):\n",
    "                vx_cdf = (np.arange(len(vx[:,i,j])) +  1) / (len(vx[:,i,j]))\n",
    "                vy_cdf = (np.arange(len(vy[:,i,j])) +  1) / (len(vy[:,i,j]))\n",
    "                \n",
    "                spl = InterpolatedUnivariateSpline(vx_cdf, np.sort(vx[:,i,j]))\n",
    "                vx_interp = spl(vy_cdf)\n",
    "                \n",
    "                def func(x, a, b, c, d):\n",
    "                    return a*x + b*x**2 + c*x**3 + d\n",
    "                \n",
    "                popt = curve_fit(func, vx_interp, np.sort(vy[:,i,j]))[0]\n",
    "                \n",
    "                matched_vx[:,i,j] = func(vx[:,i,j], *popt)\n",
    "    elif np.array(vx).ndim==4:\n",
    "        matched_vx=np.zeros((vx.shape[0],vx.shape[1],vx.shape[2],vx.shape[3]))\n",
    "        for i in range(vx.shape[1]):\n",
    "            for j in range(vx.shape[2]):\n",
    "                for k in range(vx.shape[3]):\n",
    "                    vx_cdf = (np.arange(len(vx[:,i,j,k])) +  1) / (len(vx[:,i,j,k]))\n",
    "                    vy_cdf = (np.arange(len(vy[:,i,j,k])) +  1) / (len(vy[:,i,j,k]))\n",
    "                    \n",
    "                    spl = InterpolatedUnivariateSpline(vx_cdf, np.sort(vx[:,i,j,k]))\n",
    "                    vx_interp = spl(vy_cdf)\n",
    "                    \n",
    "                    def func(x, a, b, c, d):\n",
    "                        return a*x + b*x**2 + c*x**3 + d\n",
    "                    \n",
    "                    popt = curve_fit(func, vx_interp, np.sort(vy[:,i,j,k]))[0]\n",
    "                    \n",
    "                    matched_vx[:,i,j,k] = func(vx[:,i,j,k], *popt)\n",
    "\n",
    "    return matched_vx"
   ]
  },
  {
   "cell_type": "code",
   "execution_count": 6,
   "id": "d43f15c2-1262-42ec-8226-6ee3d8a8f7e3",
   "metadata": {},
   "outputs": [
    {
     "name": "stderr",
     "output_type": "stream",
     "text": [
      "C:\\Users\\TBYC\\AppData\\Local\\Temp\\ipykernel_181744\\2651361597.py:48: OptimizeWarning: Covariance of the parameters could not be estimated\n",
      "  popt = curve_fit(func, vx_interp, np.sort(vy[:,i,j]))[0]\n"
     ]
    }
   ],
   "source": [
    "from sklearn.model_selection import train_test_split\n",
    "import Auto_paint_self\n",
    "import numpy as np\n",
    "predicty=Auto_cdf_matching(np.array(predicty),CN05_PRE[np.random.randint(0,predicty.shape[0], predicty.shape[0]),:,:])"
   ]
  },
  {
   "cell_type": "code",
   "execution_count": 7,
   "id": "c439f6be-cbcf-4b94-9c7d-e7bc99f0f6a7",
   "metadata": {},
   "outputs": [],
   "source": [
    "Auto_paint_self.create_nc(times,lat,lon,None,predicty,'time','lat','lon','predicty','no',None,'yes','yes','yes','E:/xuanxuan/unet_pre_predicty_CN05_morev_cdf.nc')"
   ]
  },
  {
   "cell_type": "code",
   "execution_count": 8,
   "id": "35f985e3-d70c-4024-94d3-7fb7b5fd39a7",
   "metadata": {},
   "outputs": [
    {
     "name": "stderr",
     "output_type": "stream",
     "text": [
      "F:\\anaconda\\envs\\tensorflow\\lib\\site-packages\\xarray\\coding\\times.py:170: SerializationWarning: Ambiguous reference date string: 1-1-1 00:00:00. The first value is assumed to be the year hence will be padded with zeros to remove the ambiguity (the padded reference date string is: 0001-1-1 00:00:00). To remove this message, remove the ambiguity by padding your reference date strings with zeros.\n",
      "  warnings.warn(warning_msg, SerializationWarning)\n"
     ]
    }
   ],
   "source": [
    "CN05_PRE,lon,lat,levels,latlow,lattop,lonleft,lonright,times=Auto_paint_self.open_data_nc('one',r'E:\\CN05.1_Pre_1961_2021_daily_025x025.nc','pre','yes','time','2017-10-20','2021-12-31','yes','lon','yes','lat',18.0,53.5,73.5,135.0,0.25,0.25,'no','no',None,None,changeresolution=1,timespace=1,ifchange_west_east='no',ifinterpolate='no')"
   ]
  },
  {
   "cell_type": "code",
   "execution_count": 9,
   "id": "0e108e16-b107-40a7-93e1-a6602380871b",
   "metadata": {
    "scrolled": true
   },
   "outputs": [
    {
     "name": "stdout",
     "output_type": "stream",
     "text": [
      "0.6800661733267042\n"
     ]
    }
   ],
   "source": [
    "import warnings\n",
    "\n",
    "warnings.filterwarnings(\"ignore\")\n",
    "r=np.zeros((testy.shape[1],testy.shape[2]))\n",
    "p=np.zeros((testy.shape[1],testy.shape[2]))\n",
    "from scipy.stats import pearsonr\n",
    "for i in range(testy.shape[1]):\n",
    "    for j in range(testy.shape[2]):\n",
    "        if np.isnan(CN05_PRE[:,i,j]).any():\n",
    "            r[i,j],p[i,j]=np.nan,np.nan\n",
    "        else:\n",
    "            r[i,j],p[i,j] = pearsonr(predicty[:,i,j],testy[:,i,j])\n",
    "print(np.nanmean(r))"
   ]
  },
  {
   "cell_type": "code",
   "execution_count": null,
   "id": "1406c1d6-6f43-42d8-b855-a5d772abfb38",
   "metadata": {},
   "outputs": [],
   "source": []
  }
 ],
 "metadata": {
  "kernelspec": {
   "display_name": "tensorflow",
   "language": "python",
   "name": "tensorflow"
  },
  "language_info": {
   "codemirror_mode": {
    "name": "ipython",
    "version": 3
   },
   "file_extension": ".py",
   "mimetype": "text/x-python",
   "name": "python",
   "nbconvert_exporter": "python",
   "pygments_lexer": "ipython3",
   "version": "3.9.19"
  }
 },
 "nbformat": 4,
 "nbformat_minor": 5
}
