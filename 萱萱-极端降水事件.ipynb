{
 "cells": [
  {
   "cell_type": "code",
   "execution_count": 1,
   "id": "fb2de407-59dc-4c20-990d-96f2602d0303",
   "metadata": {},
   "outputs": [
    {
     "name": "stderr",
     "output_type": "stream",
     "text": [
      "F:\\anaconda\\Lib\\site-packages\\paramiko\\transport.py:219: CryptographyDeprecationWarning: Blowfish has been deprecated and will be removed in a future release\n",
      "  \"class\": algorithms.Blowfish,\n",
      "C:\\Users\\TBYC\\AppData\\Roaming\\Python\\Python311\\site-packages\\xarray\\coding\\times.py:206: SerializationWarning: Ambiguous reference date string: 1-1-1 00:00:00. The first value is assumed to be the year hence will be padded with zeros to remove the ambiguity (the padded reference date string is: 0001-1-1 00:00:00). To remove this message, remove the ambiguity by padding your reference date strings with zeros.\n",
      "  ref_date = _ensure_padded_year(ref_date)\n",
      "C:\\Users\\TBYC\\AppData\\Roaming\\Python\\Python311\\site-packages\\xarray\\coding\\times.py:206: SerializationWarning: Ambiguous reference date string: 1-1-1 00:00:00. The first value is assumed to be the year hence will be padded with zeros to remove the ambiguity (the padded reference date string is: 0001-1-1 00:00:00). To remove this message, remove the ambiguity by padding your reference date strings with zeros.\n",
      "  ref_date = _ensure_padded_year(ref_date)\n"
     ]
    }
   ],
   "source": [
    "import Auto_paint_self\n",
    "CN05_PRE_x,lon,lat,levels,latlow,lattop,lonleft,lonright,times=Auto_paint_self.open_data_nc('one',r'E:\\CN05.1_Pre_1961_2021_daily_025x025.nc','pre','yes','time','1980-01-01','2000-12-31','yes','lon','yes','lat',18.0,53.5,73.5,135.0,0.25,0.25,'no','no',None,None,changeresolution=1,timespace=1,ifchange_west_east='no',ifinterpolate='no')\n",
    "CN05_PRE_y,lon,lat,levels,latlow,lattop,lonleft,lonright,timess=Auto_paint_self.open_data_nc('one',r'E:\\CN05.1_Pre_1961_2021_daily_025x025.nc','pre','yes','time','1980-01-01','2021-12-31','yes','lon','yes','lat',18.0,53.5,73.5,135.0,0.25,0.25,'no','no',None,None,changeresolution=1,timespace=1,ifchange_west_east='no',ifinterpolate='no')\n",
    "CMO_RPH,lon,lat,levels,latlow,lattop,lonleft,lonright,times=Auto_paint_self.open_data_nc('one',r'E:\\Multi-Sources_Precipitation_NC_2001_2022\\CMORPH_China_2001_2022_2.nc','Pre','yes','time','2001-01-01','2021-12-31','yes','lon','yes','lat',18.0,53.5,73.5,135.0,0.25,0.25,'no','no',None,None,changeresolution=1,timespace=1,ifchange_west_east='no',ifinterpolate='no')\n",
    "ERA5_PRE,lon,lat,levels,latlow,lattop,lonleft,lonright,times=Auto_paint_self.open_data_nc('one',r'E:\\Multi-Sources_Precipitation_NC_2001_2022\\ERA5_China_2001_2022_2.nc','Pre','yes','time','2001-01-01','2021-12-31','yes','lon','yes','lat',18.0,53.5,73.5,135.0,0.25,0.25,'no','no',None,None,changeresolution=1,timespace=1,ifchange_west_east='no',ifinterpolate='no')\n",
    "GPM_PRE,lon,lat,levels,latlow,lattop,lonleft,lonright,times=Auto_paint_self.open_data_nc('one',r'E:\\Multi-Sources_Precipitation_NC_2001_2022\\GPM_China_2001_2022_time.nc','precipitation','yes','time','2001-01-01','2021-12-31','yes','lon','yes','lat',18.0,53.5,73.5,135.0,0.25,0.25,'no','no',None,None,changeresolution=1,timespace=1,ifchange_west_east='no',ifinterpolate='no')\n",
    "GSMAP_PRE,lon,lat,levels,latlow,lattop,lonleft,lonright,times=Auto_paint_self.open_data_nc('one',r'E:\\Multi-Sources_Precipitation_NC_2001_2022\\GSMAP_China_2001_2022_time.nc','Pre_daily','yes','time','2001-01-01','2021-12-31','yes','lon','yes','lat',18.0,53.5,73.5,135.0,0.25,0.25,'no','no',None,None,changeresolution=1,timespace=1,ifchange_west_east='no',ifinterpolate='no')\n",
    "MSWEP_PRE,lon,lat,levels,latlow,lattop,lonleft,lonright,times=Auto_paint_self.open_data_nc('one',r'E:\\Multi-Sources_Precipitation_NC_2001_2022\\MSWEP_China_2001_2022_2.nc','Pre','yes','time','2001-01-01','2021-12-31','yes','lon','yes','lat',18.0,53.5,73.5,135.0,0.25,0.25,'no','no',None,None,changeresolution=1,timespace=1,ifchange_west_east='no',ifinterpolate='no')\n",
    "PERSIANN_CDR_PRE,lon,lat,levels,latlow,lattop,lonleft,lonright,times=Auto_paint_self.open_data_nc('one',r'E:\\Multi-Sources_Precipitation_NC_2001_2022\\PERSIANN_CDR_PRE_China_2001_2022_2.nc','Pre','yes','time','2001-01-01','2021-12-31','yes','lon','yes','lat',18.0,53.5,73.5,135.0,0.25,0.25,'no','no',None,None,changeresolution=1,timespace=1,ifchange_west_east='no',ifinterpolate='no')"
   ]
  },
  {
   "cell_type": "code",
   "execution_count": 2,
   "id": "c1f9e516-eb94-46c6-bef6-26166a8b7cf2",
   "metadata": {},
   "outputs": [],
   "source": [
    "CN05_PRE_x=CN05_PRE_x[:,::-1,:]\n",
    "CN05_PRE_y=CN05_PRE_y[:,::-1,:]"
   ]
  },
  {
   "cell_type": "code",
   "execution_count": 3,
   "id": "3f0dd430-82c5-4e4c-abbf-eaff1504a7de",
   "metadata": {},
   "outputs": [],
   "source": [
    "import xarray as xr\n",
    "import numpy as np\n",
    "CMO_RPH_new=np.concatenate([CN05_PRE_x, CMO_RPH], axis=0)\n",
    "ERA5_PRE_new=np.concatenate([CN05_PRE_x, ERA5_PRE], axis=0)\n",
    "GPM_PRE_new=np.concatenate([CN05_PRE_x, GPM_PRE], axis=0)\n",
    "GSMAP_PRE_new=np.concatenate([CN05_PRE_x, GSMAP_PRE], axis=0)\n",
    "MSWEP_PRE_new=np.concatenate([CN05_PRE_x, MSWEP_PRE], axis=0)\n",
    "PERSIANN_CDR_PRE_new=np.concatenate([CN05_PRE_x, PERSIANN_CDR_PRE], axis=0)"
   ]
  },
  {
   "cell_type": "code",
   "execution_count": 4,
   "id": "e316eef3-eb0f-4d5b-9751-ca50b4791419",
   "metadata": {},
   "outputs": [
    {
     "name": "stderr",
     "output_type": "stream",
     "text": [
      "F:\\anaconda\\Lib\\site-packages\\numpy\\lib\\nanfunctions.py:1563: RuntimeWarning: All-NaN slice encountered\n",
      "  return function_base._ureduce(a,\n"
     ]
    }
   ],
   "source": [
    "import numpy as np\n",
    "CMO_RPH_q95 = np.nanpercentile(CMO_RPH_new, 95, axis=0)  \n",
    "CMO_RPH_q99 = np.nanpercentile(CMO_RPH_new, 99, axis=0)  \n",
    "ERA5_PRE_q95 = np.nanpercentile(ERA5_PRE_new, 95, axis=0)  \n",
    "ERA5_PRE_q99 = np.nanpercentile(ERA5_PRE_new, 99, axis=0)  \n",
    "GPM_PRE_q95 = np.nanpercentile(GPM_PRE_new, 95, axis=0)  \n",
    "GPM_PRE_q99 = np.nanpercentile(GPM_PRE_new, 99, axis=0)  \n",
    "GSMAP_PRE_q95 = np.nanpercentile(GSMAP_PRE_new, 95, axis=0)  \n",
    "GSMAP_PRE_q99 = np.nanpercentile(GSMAP_PRE_new, 99, axis=0)  \n",
    "MSWEP_PRE_q95 = np.nanpercentile(MSWEP_PRE_new, 95, axis=0)  \n",
    "MSWEP_PRE_q99 = np.nanpercentile(MSWEP_PRE_new, 99, axis=0)  \n",
    "PERSIANN_CDR_PRE_q95 = np.nanpercentile(PERSIANN_CDR_PRE_new, 95, axis=0)  \n",
    "PERSIANN_CDR_PRE_q99 = np.nanpercentile(PERSIANN_CDR_PRE_new, 99, axis=0)  "
   ]
  },
  {
   "cell_type": "code",
   "execution_count": 5,
   "id": "53cfe431-94dc-48dd-957a-efe1df738784",
   "metadata": {},
   "outputs": [],
   "source": [
    "CN05_PRE_y_q95 = np.nanpercentile(CN05_PRE_y, 95, axis=0)  \n",
    "CN05_PRE_y_q99 = np.nanpercentile(CN05_PRE_y, 99, axis=0)  "
   ]
  },
  {
   "cell_type": "code",
   "execution_count": 6,
   "id": "a1c43fab-0368-45ff-91b1-6845ca3215ee",
   "metadata": {},
   "outputs": [],
   "source": [
    "CMO_RPH_new = xr.DataArray(CMO_RPH_new, [('time',np.array(timess)),('lat',np.array(lat)),('lon',np.array(lon))])\n",
    "ERA5_PRE_new = xr.DataArray(ERA5_PRE_new, [('time',np.array(timess)),('lat',np.array(lat)),('lon',np.array(lon))])\n",
    "GPM_PRE_new = xr.DataArray(GPM_PRE_new, [('time',np.array(timess)),('lat',np.array(lat)),('lon',np.array(lon))])\n",
    "GSMAP_PRE_new = xr.DataArray(GSMAP_PRE_new, [('time',np.array(timess)),('lat',np.array(lat)),('lon',np.array(lon))])\n",
    "MSWEP_PRE_new = xr.DataArray(MSWEP_PRE_new, [('time',np.array(timess)),('lat',np.array(lat)),('lon',np.array(lon))])\n",
    "PERSIANN_CDR_PRE_new = xr.DataArray(PERSIANN_CDR_PRE_new, [('time',np.array(timess)),('lat',np.array(lat)),('lon',np.array(lon))])"
   ]
  },
  {
   "cell_type": "code",
   "execution_count": 11,
   "id": "f6a5e260-7187-4112-aebf-9c9308a39a71",
   "metadata": {},
   "outputs": [
    {
     "name": "stdout",
     "output_type": "stream",
     "text": [
      "(15341, 143, 247) (7670, 143, 247) (15341, 143, 247)\n"
     ]
    }
   ],
   "source": [
    "print(CMO_RPH_new.shape,CMO_RPH.shape,CN05_PRE_y.shape)"
   ]
  },
  {
   "cell_type": "code",
   "execution_count": 12,
   "id": "74e152ff-fcad-4cec-a0d2-8e7beb79cc4c",
   "metadata": {},
   "outputs": [],
   "source": [
    "CMO_RPH_q95_exceed = CMO_RPH_new > CMO_RPH_q95\n",
    "CMO_RPH_q99_exceed = CMO_RPH_new > CMO_RPH_q99\n",
    "CMO_RPH_q95_count_exceed = CMO_RPH_q95_exceed.groupby('time.year').sum(dim='time')\n",
    "CMO_RPH_q99_count_exceed = CMO_RPH_q99_exceed.groupby('time.year').sum(dim='time')\n",
    "\n",
    "ERA5_PRE_q95_exceed = ERA5_PRE_new > ERA5_PRE_q95\n",
    "ERA5_PRE_q99_exceed = ERA5_PRE_new > ERA5_PRE_q99\n",
    "ERA5_PRE_q95_count_exceed = ERA5_PRE_q95_exceed.groupby('time.year').sum(dim='time')\n",
    "ERA5_PRE_q99_count_exceed = ERA5_PRE_q99_exceed.groupby('time.year').sum(dim='time')\n",
    "\n",
    "GPM_PRE_q95_exceed = GPM_PRE_new > GPM_PRE_q95\n",
    "GPM_PRE_q99_exceed = GPM_PRE_new > GPM_PRE_q99\n",
    "GPM_PRE_q95_count_exceed = GPM_PRE_q95_exceed.groupby('time.year').sum(dim='time')\n",
    "GPM_PRE_q99_count_exceed = GPM_PRE_q99_exceed.groupby('time.year').sum(dim='time')\n",
    "\n",
    "GSMAP_PRE_q95_exceed = GSMAP_PRE_new > GSMAP_PRE_q95\n",
    "GSMAP_PRE_q99_exceed = GSMAP_PRE_new > GSMAP_PRE_q99\n",
    "GSMAP_PRE_q95_count_exceed = GSMAP_PRE_q95_exceed.groupby('time.year').sum(dim='time')\n",
    "GSMAP_PRE_q99_count_exceed = GSMAP_PRE_q99_exceed.groupby('time.year').sum(dim='time')\n",
    "\n",
    "MSWEP_PRE_q95_exceed = MSWEP_PRE_new > MSWEP_PRE_q95\n",
    "MSWEP_PRE_q99_exceed = MSWEP_PRE_new > MSWEP_PRE_q99\n",
    "MSWEP_PRE_q95_count_exceed = MSWEP_PRE_q95_exceed.groupby('time.year').sum(dim='time')\n",
    "MSWEP_PRE_q99_count_exceed = MSWEP_PRE_q99_exceed.groupby('time.year').sum(dim='time')\n",
    "\n",
    "PERSIANN_CDR_PRE_q95_exceed = PERSIANN_CDR_PRE_new > PERSIANN_CDR_PRE_q95\n",
    "PERSIANN_CDR_PRE_q99_exceed = PERSIANN_CDR_PRE_new > PERSIANN_CDR_PRE_q99\n",
    "PERSIANN_CDR_PRE_q95_count_exceed = PERSIANN_CDR_PRE_q95_exceed.groupby('time.year').sum(dim='time')\n",
    "PERSIANN_CDR_PRE_q99_count_exceed = PERSIANN_CDR_PRE_q99_exceed.groupby('time.year').sum(dim='time')\n",
    "\n",
    "CN05_PRE_y_q95_exceed = CN05_PRE_y > CN05_PRE_y_q95\n",
    "CN05_PRE_y_q99_exceed = CN05_PRE_y > CN05_PRE_y_q99\n",
    "CN05_PRE_y_q95_count_exceed = CN05_PRE_y_q95_exceed.groupby('time.year').sum(dim='time')\n",
    "CN05_PRE_y_q99_count_exceed = CN05_PRE_y_q99_exceed.groupby('time.year').sum(dim='time')"
   ]
  },
  {
   "cell_type": "code",
   "execution_count": 16,
   "id": "0c236120-3da9-44ba-a3ad-91e8b6bb9af9",
   "metadata": {},
   "outputs": [
    {
     "name": "stderr",
     "output_type": "stream",
     "text": [
      "100%|████████████████████████████████████████████████████████████████████████████████| 143/143 [03:51<00:00,  1.62s/it]\n"
     ]
    }
   ],
   "source": [
    "from scipy.stats import pearsonr\n",
    "from tqdm import tqdm\n",
    "CMO_RPH_q95_r,CMO_RPH_q95_p=np.zeros((CN05_PRE_y.shape[1],CN05_PRE_y.shape[2])),np.zeros((CN05_PRE_y.shape[1],CN05_PRE_y.shape[2]))\n",
    "ERA5_PRE_q95_r,ERA5_PRE_q95_p=np.zeros((CN05_PRE_y.shape[1],CN05_PRE_y.shape[2])),np.zeros((CN05_PRE_y.shape[1],CN05_PRE_y.shape[2]))\n",
    "GPM_PRE_q95_r,GPM_PRE_q95_p=np.zeros((CN05_PRE_y.shape[1],CN05_PRE_y.shape[2])),np.zeros((CN05_PRE_y.shape[1],CN05_PRE_y.shape[2]))\n",
    "GSMAP_PRE_q95_r,GSMAP_PRE_q95_p=np.zeros((CN05_PRE_y.shape[1],CN05_PRE_y.shape[2])),np.zeros((CN05_PRE_y.shape[1],CN05_PRE_y.shape[2]))\n",
    "MSWEP_PRE_q95_r,MSWEP_PRE_q95_p=np.zeros((CN05_PRE_y.shape[1],CN05_PRE_y.shape[2])),np.zeros((CN05_PRE_y.shape[1],CN05_PRE_y.shape[2]))\n",
    "PERSIANN_CDR_PRE_q95_r,PERSIANN_CDR_PRE_q95_p=np.zeros((CN05_PRE_y.shape[1],CN05_PRE_y.shape[2])),np.zeros((CN05_PRE_y.shape[1],CN05_PRE_y.shape[2]))\n",
    "\n",
    "CMO_RPH_q99_r,CMO_RPH_q99_p=np.zeros((CN05_PRE_y.shape[1],CN05_PRE_y.shape[2])),np.zeros((CN05_PRE_y.shape[1],CN05_PRE_y.shape[2]))\n",
    "ERA5_PRE_q99_r,ERA5_PRE_q99_p=np.zeros((CN05_PRE_y.shape[1],CN05_PRE_y.shape[2])),np.zeros((CN05_PRE_y.shape[1],CN05_PRE_y.shape[2]))\n",
    "GPM_PRE_q99_r,GPM_PRE_q99_p=np.zeros((CN05_PRE_y.shape[1],CN05_PRE_y.shape[2])),np.zeros((CN05_PRE_y.shape[1],CN05_PRE_y.shape[2]))\n",
    "GSMAP_PRE_q99_r,GSMAP_PRE_q99_p=np.zeros((CN05_PRE_y.shape[1],CN05_PRE_y.shape[2])),np.zeros((CN05_PRE_y.shape[1],CN05_PRE_y.shape[2]))\n",
    "MSWEP_PRE_q99_r,MSWEP_PRE_q99_p=np.zeros((CN05_PRE_y.shape[1],CN05_PRE_y.shape[2])),np.zeros((CN05_PRE_y.shape[1],CN05_PRE_y.shape[2]))\n",
    "PERSIANN_CDR_PRE_q99_r,PERSIANN_CDR_PRE_q99_p=np.zeros((CN05_PRE_y.shape[1],CN05_PRE_y.shape[2])),np.zeros((CN05_PRE_y.shape[1],CN05_PRE_y.shape[2]))\n",
    "for i in tqdm(range(CN05_PRE_y.shape[1])):\n",
    "    for j in range(CN05_PRE_y.shape[2]):\n",
    "        CMO_RPH_q95_r[i,j],CMO_RPH_q95_p[i,j]= pearsonr(CN05_PRE_y_q95_count_exceed[:,i,j],CMO_RPH_q95_count_exceed[:,i,j])\n",
    "        ERA5_PRE_q95_r[i,j],ERA5_PRE_q95_p[i,j]=pearsonr(CN05_PRE_y_q95_count_exceed[:,i,j],ERA5_PRE_q95_count_exceed[:,i,j])\n",
    "        GPM_PRE_q95_r[i,j],GPM_PRE_q95_p[i,j]=pearsonr(CN05_PRE_y_q95_count_exceed[:,i,j],GPM_PRE_q95_count_exceed[:,i,j])\n",
    "        GSMAP_PRE_q95_r[i,j],GSMAP_PRE_q95_p[i,j]=pearsonr(CN05_PRE_y_q95_count_exceed[:,i,j],GSMAP_PRE_q95_count_exceed[:,i,j])\n",
    "        MSWEP_PRE_q95_r[i,j],MSWEP_PRE_q95_p[i,j]=pearsonr(CN05_PRE_y_q95_count_exceed[:,i,j],MSWEP_PRE_q95_count_exceed[:,i,j])\n",
    "        PERSIANN_CDR_PRE_q95_r[i,j],PERSIANN_CDR_PRE_q95_p[i,j]=pearsonr(CN05_PRE_y_q95_count_exceed[:,i,j],PERSIANN_CDR_PRE_q95_count_exceed[:,i,j])\n",
    "\n",
    "        CMO_RPH_q99_r[i,j],CMO_RPH_q99_p[i,j]= pearsonr(CN05_PRE_y_q99_count_exceed[:,i,j],CMO_RPH_q99_count_exceed[:,i,j])\n",
    "        ERA5_PRE_q99_r[i,j],ERA5_PRE_q99_p[i,j]=pearsonr(CN05_PRE_y_q99_count_exceed[:,i,j],ERA5_PRE_q99_count_exceed[:,i,j])\n",
    "        GPM_PRE_q99_r[i,j],GPM_PRE_q99_p[i,j]=pearsonr(CN05_PRE_y_q99_count_exceed[:,i,j],GPM_PRE_q99_count_exceed[:,i,j])\n",
    "        GSMAP_PRE_q99_r[i,j],GSMAP_PRE_q99_p[i,j]=pearsonr(CN05_PRE_y_q99_count_exceed[:,i,j],GSMAP_PRE_q99_count_exceed[:,i,j])\n",
    "        MSWEP_PRE_q99_r[i,j],MSWEP_PRE_q99_p[i,j]=pearsonr(CN05_PRE_y_q99_count_exceed[:,i,j],MSWEP_PRE_q99_count_exceed[:,i,j])\n",
    "        PERSIANN_CDR_PRE_q99_r[i,j],PERSIANN_CDR_PRE_q99_p[i,j]=pearsonr(CN05_PRE_y_q99_count_exceed[:,i,j],PERSIANN_CDR_PRE_q99_count_exceed[:,i,j])"
   ]
  },
  {
   "cell_type": "code",
   "execution_count": 17,
   "id": "618272af-4bc6-4308-a950-7347ff029416",
   "metadata": {},
   "outputs": [
    {
     "name": "stdout",
     "output_type": "stream",
     "text": [
      "[[nan nan nan ... nan nan nan]\n",
      " [nan nan nan ... nan nan nan]\n",
      " [nan nan nan ... nan nan nan]\n",
      " ...\n",
      " [nan nan nan ... nan nan nan]\n",
      " [nan nan nan ... nan nan nan]\n",
      " [nan nan nan ... nan nan nan]]\n"
     ]
    }
   ],
   "source": [
    "print(CMO_RPH_q99_r)"
   ]
  },
  {
   "cell_type": "code",
   "execution_count": 18,
   "id": "8e175304-0338-46cc-ba8f-cf6cfd45a07e",
   "metadata": {},
   "outputs": [
    {
     "name": "stdout",
     "output_type": "stream",
     "text": [
      "0.5899327279504825 0.49255904906487835\n",
      "0.03529089090945804 0.19723445701122874\n",
      "0.5951753946948403 0.5294580755121383\n",
      "0.5464974527142366 0.39799463971340227\n",
      "0.6685127780314581 0.5683774123877573\n",
      "0.6156254683517889 0.5214792464465675\n"
     ]
    }
   ],
   "source": [
    "print(np.nanmean(CMO_RPH_q95_r),np.nanmean(CMO_RPH_q99_r))\n",
    "print(np.nanmean(ERA5_PRE_q95_r),np.nanmean(ERA5_PRE_q99_r))\n",
    "print(np.nanmean(GPM_PRE_q95_r),np.nanmean(GPM_PRE_q99_r))\n",
    "print(np.nanmean(GSMAP_PRE_q95_r),np.nanmean(GSMAP_PRE_q99_r))\n",
    "print(np.nanmean(MSWEP_PRE_q95_r),np.nanmean(MSWEP_PRE_q99_r))\n",
    "print(np.nanmean(PERSIANN_CDR_PRE_q95_r),np.nanmean(PERSIANN_CDR_PRE_q99_r))"
   ]
  },
  {
   "cell_type": "code",
   "execution_count": 20,
   "id": "9bb122d1-fa4c-47ce-9864-60eb90fb7a94",
   "metadata": {},
   "outputs": [],
   "source": [
    "Auto_paint_self.create_nc(None,lat,lon,None,CMO_RPH_q95_r,None,'lat','lon','r','no',None,'no','yes','yes','E:/xuanxuan/CMO_RPH_q95_r.nc')\n",
    "Auto_paint_self.create_nc(None,lat,lon,None,CMO_RPH_q99_r,None,'lat','lon','r','no',None,'no','yes','yes','E:/xuanxuan/CMO_RPH_q99_r.nc')\n",
    "Auto_paint_self.create_nc(None,lat,lon,None,CMO_RPH_q95_p,None,'lat','lon','p','no',None,'no','yes','yes','E:/xuanxuan/CMO_RPH_q95_p.nc')\n",
    "Auto_paint_self.create_nc(None,lat,lon,None,CMO_RPH_q99_p,None,'lat','lon','p','no',None,'no','yes','yes','E:/xuanxuan/CMO_RPH_q99_p.nc')\n",
    "\n",
    "Auto_paint_self.create_nc(None,lat,lon,None,ERA5_PRE_q95_r,None,'lat','lon','r','no',None,'no','yes','yes','E:/xuanxuan/ERA5_PRE_q95_r.nc')\n",
    "Auto_paint_self.create_nc(None,lat,lon,None,ERA5_PRE_q99_r,None,'lat','lon','r','no',None,'no','yes','yes','E:/xuanxuan/ERA5_PRE_q99_r.nc')\n",
    "Auto_paint_self.create_nc(None,lat,lon,None,ERA5_PRE_q95_p,None,'lat','lon','p','no',None,'no','yes','yes','E:/xuanxuan/ERA5_PRE_q95_p.nc')\n",
    "Auto_paint_self.create_nc(None,lat,lon,None,ERA5_PRE_q99_p,None,'lat','lon','p','no',None,'no','yes','yes','E:/xuanxuan/ERA5_PRE_q99_p.nc')\n",
    "\n",
    "Auto_paint_self.create_nc(None,lat,lon,None,GPM_PRE_q95_r,None,'lat','lon','r','no',None,'no','yes','yes','E:/xuanxuan/GPM_PRE_q95_r.nc')\n",
    "Auto_paint_self.create_nc(None,lat,lon,None,GPM_PRE_q99_r,None,'lat','lon','r','no',None,'no','yes','yes','E:/xuanxuan/GPM_PRE_q99_r.nc')\n",
    "Auto_paint_self.create_nc(None,lat,lon,None,GPM_PRE_q95_p,None,'lat','lon','p','no',None,'no','yes','yes','E:/xuanxuan/GPM_PRE_q95_p.nc')\n",
    "Auto_paint_self.create_nc(None,lat,lon,None,GPM_PRE_q99_p,None,'lat','lon','p','no',None,'no','yes','yes','E:/xuanxuan/GPM_PRE_q99_p.nc')\n",
    "\n",
    "Auto_paint_self.create_nc(None,lat,lon,None,GSMAP_PRE_q95_r,None,'lat','lon','r','no',None,'no','yes','yes','E:/xuanxuan/GSMAP_PRE_q95_r.nc')\n",
    "Auto_paint_self.create_nc(None,lat,lon,None,GSMAP_PRE_q99_r,None,'lat','lon','r','no',None,'no','yes','yes','E:/xuanxuan/GSMAP_PRE_q99_r.nc')\n",
    "Auto_paint_self.create_nc(None,lat,lon,None,GSMAP_PRE_q95_p,None,'lat','lon','p','no',None,'no','yes','yes','E:/xuanxuan/GSMAP_PRE_q95_p.nc')\n",
    "Auto_paint_self.create_nc(None,lat,lon,None,GSMAP_PRE_q99_p,None,'lat','lon','p','no',None,'no','yes','yes','E:/xuanxuan/GSMAP_PRE_q99_p.nc')\n",
    "\n",
    "Auto_paint_self.create_nc(None,lat,lon,None,MSWEP_PRE_q95_r,None,'lat','lon','r','no',None,'no','yes','yes','E:/xuanxuan/MSWEP_PRE_q95_r.nc')\n",
    "Auto_paint_self.create_nc(None,lat,lon,None,MSWEP_PRE_q99_r,None,'lat','lon','r','no',None,'no','yes','yes','E:/xuanxuan/MSWEP_PRE_q99_r.nc')\n",
    "Auto_paint_self.create_nc(None,lat,lon,None,MSWEP_PRE_q95_p,None,'lat','lon','p','no',None,'no','yes','yes','E:/xuanxuan/MSWEP_PRE_q95_p.nc')\n",
    "Auto_paint_self.create_nc(None,lat,lon,None,MSWEP_PRE_q99_p,None,'lat','lon','p','no',None,'no','yes','yes','E:/xuanxuan/MSWEP_PRE_q99_p.nc')\n",
    "\n",
    "Auto_paint_self.create_nc(None,lat,lon,None,PERSIANN_CDR_PRE_q95_r,None,'lat','lon','r','no',None,'no','yes','yes','E:/xuanxuan/PERSIANN_CDR_PRE_q95_r.nc')\n",
    "Auto_paint_self.create_nc(None,lat,lon,None,PERSIANN_CDR_PRE_q99_r,None,'lat','lon','r','no',None,'no','yes','yes','E:/xuanxuan/PERSIANN_CDR_PRE_q99_r.nc')\n",
    "Auto_paint_self.create_nc(None,lat,lon,None,PERSIANN_CDR_PRE_q95_p,None,'lat','lon','p','no',None,'no','yes','yes','E:/xuanxuan/PERSIANN_CDR_PRE_q95_p.nc')\n",
    "Auto_paint_self.create_nc(None,lat,lon,None,PERSIANN_CDR_PRE_q99_p,None,'lat','lon','p','no',None,'no','yes','yes','E:/xuanxuan/PERSIANN_CDR_PRE_q99_p.nc')"
   ]
  },
  {
   "cell_type": "code",
   "execution_count": 21,
   "id": "0dc712c3-4470-4846-b9cd-cfdd120ff15d",
   "metadata": {},
   "outputs": [],
   "source": [
    "Auto_paint_self.create_nc(np.arange(1980,2022,1),lat,lon,None,CMO_RPH_q95_count_exceed,'time','lat','lon','q95','no',None,'self','yes','yes','E:/xuanxuan/CMO_RPH_q95_count_exceed.nc')\n",
    "Auto_paint_self.create_nc(np.arange(1980,2022,1),lat,lon,None,CMO_RPH_q99_count_exceed,'time','lat','lon','q99','no',None,'self','yes','yes','E:/xuanxuan/CMO_RPH_q99_count_exceed.nc')\n",
    "\n",
    "Auto_paint_self.create_nc(np.arange(1980,2022,1),lat,lon,None,ERA5_PRE_q95_count_exceed,'time','lat','lon','q95','no',None,'self','yes','yes','E:/xuanxuan/ERA5_PRE_q95_count_exceed.nc')\n",
    "Auto_paint_self.create_nc(np.arange(1980,2022,1),lat,lon,None,ERA5_PRE_q99_count_exceed,'time','lat','lon','q99','no',None,'self','yes','yes','E:/xuanxuan/ERA5_PRE_q99_count_exceed.nc')\n",
    "\n",
    "Auto_paint_self.create_nc(np.arange(1980,2022,1),lat,lon,None,GPM_PRE_q95_count_exceed,'time','lat','lon','q95','no',None,'self','yes','yes','E:/xuanxuan/GPM_PRE_q95_count_exceed.nc')\n",
    "Auto_paint_self.create_nc(np.arange(1980,2022,1),lat,lon,None,GPM_PRE_q99_count_exceed,'time','lat','lon','q99','no',None,'self','yes','yes','E:/xuanxuan/GPM_PRE_q99_count_exceed.nc')\n",
    "\n",
    "Auto_paint_self.create_nc(np.arange(1980,2022,1),lat,lon,None,GSMAP_PRE_q95_count_exceed,'time','lat','lon','q95','no',None,'self','yes','yes','E:/xuanxuan/GSMAP_PRE_q95_count_exceed.nc')\n",
    "Auto_paint_self.create_nc(np.arange(1980,2022,1),lat,lon,None,GSMAP_PRE_q99_count_exceed,'time','lat','lon','q99','no',None,'self','yes','yes','E:/xuanxuan/GSMAP_PRE_q99_count_exceed.nc')\n",
    "\n",
    "Auto_paint_self.create_nc(np.arange(1980,2022,1),lat,lon,None,MSWEP_PRE_q95_count_exceed,'time','lat','lon','q95','no',None,'self','yes','yes','E:/xuanxuan/MSWEP_PRE_q95_count_exceed.nc')\n",
    "Auto_paint_self.create_nc(np.arange(1980,2022,1),lat,lon,None,MSWEP_PRE_q99_count_exceed,'time','lat','lon','q99','no',None,'self','yes','yes','E:/xuanxuan/MSWEP_PRE_q99_count_exceed.nc')\n",
    "\n",
    "Auto_paint_self.create_nc(np.arange(1980,2022,1),lat,lon,None,PERSIANN_CDR_PRE_q95_count_exceed,'time','lat','lon','q95','no',None,'self','yes','yes','E:/xuanxuan/PERSIANN_CDR_PRE_q95_count_exceed.nc')\n",
    "Auto_paint_self.create_nc(np.arange(1980,2022,1),lat,lon,None,PERSIANN_CDR_PRE_q99_count_exceed,'time','lat','lon','q99','no',None,'self','yes','yes','E:/xuanxuan/PERSIANN_CDR_PRE_q99_count_exceed.nc')\n",
    "\n",
    "Auto_paint_self.create_nc(np.arange(1980,2022,1),lat,lon,None,CN05_PRE_y_q95_count_exceed,'time','lat','lon','q95','no',None,'self','yes','yes','E:/xuanxuan/CN05_PRE_y_q95_count_exceed.nc')\n",
    "Auto_paint_self.create_nc(np.arange(1980,2022,1),lat,lon,None,CN05_PRE_y_q99_count_exceed,'time','lat','lon','q99','no',None,'self','yes','yes','E:/xuanxuan/CN05_PRE_y_q99_count_exceed.nc')"
   ]
  },
  {
   "cell_type": "code",
   "execution_count": null,
   "id": "440366eb-ec49-4841-8302-d59a6006f639",
   "metadata": {},
   "outputs": [],
   "source": []
  }
 ],
 "metadata": {
  "kernelspec": {
   "display_name": "Python 3 (ipykernel)",
   "language": "python",
   "name": "python3"
  },
  "language_info": {
   "codemirror_mode": {
    "name": "ipython",
    "version": 3
   },
   "file_extension": ".py",
   "mimetype": "text/x-python",
   "name": "python",
   "nbconvert_exporter": "python",
   "pygments_lexer": "ipython3",
   "version": "3.11.7"
  }
 },
 "nbformat": 4,
 "nbformat_minor": 5
}
