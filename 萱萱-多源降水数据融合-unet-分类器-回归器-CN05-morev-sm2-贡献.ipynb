{
 "cells": [
  {
   "cell_type": "code",
   "execution_count": 2,
   "id": "ef308104-e40d-4c3c-ac1a-686de36ba828",
   "metadata": {},
   "outputs": [],
   "source": [
    "import Auto_paint_self"
   ]
  },
  {
   "cell_type": "code",
   "execution_count": 3,
   "id": "70c3dac5-6513-4dcc-a540-7f29f814f0cf",
   "metadata": {},
   "outputs": [
    {
     "name": "stderr",
     "output_type": "stream",
     "text": [
      "F:\\anaconda\\envs\\tensorflow\\lib\\site-packages\\xarray\\coding\\times.py:170: SerializationWarning: Ambiguous reference date string: 1-1-1 00:00:00. The first value is assumed to be the year hence will be padded with zeros to remove the ambiguity (the padded reference date string is: 0001-1-1 00:00:00). To remove this message, remove the ambiguity by padding your reference date strings with zeros.\n",
      "  warnings.warn(warning_msg, SerializationWarning)\n"
     ]
    }
   ],
   "source": [
    "CN05_PRE,lon,lat,levels,latlow,lattop,lonleft,lonright,times=Auto_paint_self.open_data_nc('one',r'E:\\CN05.1_Pre_1961_2021_daily_025x025.nc','pre','yes','time','2001-01-01','2021-12-31','yes','lon','yes','lat',18.0,53.5,73.5,135.0,0.25,0.25,'no','no',None,None,changeresolution=1,timespace=1,ifchange_west_east='no',ifinterpolate='no')\n",
    "CMO_RPH,lon,lat,levels,latlow,lattop,lonleft,lonright,times=Auto_paint_self.open_data_nc('one',r'E:\\Multi-Sources_Precipitation_NC_2001_2022\\CMORPH_China_2001_2022_2.nc','Pre','yes','time','2001-01-01','2021-12-31','yes','lon','yes','lat',18.0,53.5,73.5,135.0,0.25,0.25,'no','no',None,None,changeresolution=1,timespace=1,ifchange_west_east='no',ifinterpolate='no')\n",
    "ERA5_PRE,lon,lat,levels,latlow,lattop,lonleft,lonright,times=Auto_paint_self.open_data_nc('one',r'E:\\Multi-Sources_Precipitation_NC_2001_2022\\ERA5_China_2001_2022_2.nc','Pre','yes','time','2001-01-01','2021-12-31','yes','lon','yes','lat',18.0,53.5,73.5,135.0,0.25,0.25,'no','no',None,None,changeresolution=1,timespace=1,ifchange_west_east='no',ifinterpolate='no')\n",
    "td2m,lon,lat,levels,latlow,lattop,lonleft,lonright,times=Auto_paint_self.open_data_nc('one',r'D:\\ERA5 dayly data on Single levels from 1979 to present\\single 0.25\\2m dewpoint temperature-day.nc','d2m','yes','time','2001-01-01','2021-12-31','yes','longitude','yes','latitude',18.0,53.5,73.5,135.0,0.25,0.25,'no','no',None,None,changeresolution=1,timespace=1,ifchange_west_east='no',ifinterpolate='no')\n",
    "t2m,lon,lat,levels,latlow,lattop,lonleft,lonright,times=Auto_paint_self.open_data_nc('one',r'D:\\ERA5 dayly data on Single levels from 1979 to present\\single 0.25\\2m temperature-day.nc','t2m','yes','time','2001-01-01','2021-12-31','yes','longitude','yes','latitude',18.0,53.5,73.5,135.0,0.25,0.25,'no','no',None,None,changeresolution=1,timespace=1,ifchange_west_east='no',ifinterpolate='no')\n",
    "sp,lon,lat,levels,latlow,lattop,lonleft,lonright,times=Auto_paint_self.open_data_nc('one',r'D:\\ERA5 dayly data on Single levels from 1979 to present\\single 0.25\\Surface pressure-day.nc','sp','yes','time','2001-01-01','2021-12-31','yes','longitude','yes','latitude',18.0,53.5,73.5,135.0,0.25,0.25,'no','no',None,None,changeresolution=1,timespace=1,ifchange_west_east='no',ifinterpolate='no')\n",
    "sm,lon,lat,levels,latlow,lattop,lonleft,lonright,times=Auto_paint_self.open_data_nc('one',r'D:\\ERA5 dayly data on Single levels from 1979 to present\\single 0.25\\Volumetric soil water layer 1-day.nc','swvl1','yes','time','2001-01-01','2021-12-31','yes','longitude','yes','latitude',18.0,53.5,73.5,135.0,0.25,0.25,'no','no',None,None,changeresolution=1,timespace=1,ifchange_west_east='no',ifinterpolate='no')\n",
    "GPM_PRE,lon,lat,levels,latlow,lattop,lonleft,lonright,times=Auto_paint_self.open_data_nc('one',r'E:\\Multi-Sources_Precipitation_NC_2001_2022\\GPM_China_2001_2022_time.nc','precipitation','yes','time','2001-01-01','2021-12-31','yes','lon','yes','lat',18.0,53.5,73.5,135.0,0.25,0.25,'no','no',None,None,changeresolution=1,timespace=1,ifchange_west_east='no',ifinterpolate='no')\n",
    "GSMAP_PRE,lon,lat,levels,latlow,lattop,lonleft,lonright,times=Auto_paint_self.open_data_nc('one',r'E:\\Multi-Sources_Precipitation_NC_2001_2022\\GSMAP_China_2001_2022_time.nc','Pre_daily','yes','time','2001-01-01','2021-12-31','yes','lon','yes','lat',18.0,53.5,73.5,135.0,0.25,0.25,'no','no',None,None,changeresolution=1,timespace=1,ifchange_west_east='no',ifinterpolate='no')\n",
    "MSWEP_PRE,lon,lat,levels,latlow,lattop,lonleft,lonright,times=Auto_paint_self.open_data_nc('one',r'E:\\Multi-Sources_Precipitation_NC_2001_2022\\MSWEP_China_2001_2022_2.nc','Pre','yes','time','2001-01-01','2021-12-31','yes','lon','yes','lat',18.0,53.5,73.5,135.0,0.25,0.25,'no','no',None,None,changeresolution=1,timespace=1,ifchange_west_east='no',ifinterpolate='no')\n",
    "PERSIANN_CDR_PRE,lon,lat,levels,latlow,lattop,lonleft,lonright,times=Auto_paint_self.open_data_nc('one',r'E:\\Multi-Sources_Precipitation_NC_2001_2022\\PERSIANN_CDR_PRE_China_2001_2022_2.nc','Pre','yes','time','2001-01-01','2021-12-31','yes','lon','yes','lat',18.0,53.5,73.5,135.0,0.25,0.25,'no','no',None,None,changeresolution=1,timespace=1,ifchange_west_east='no',ifinterpolate='no')"
   ]
  },
  {
   "cell_type": "code",
   "execution_count": 4,
   "id": "9ee55db0-ddd8-4140-ba39-be5ca62d94a5",
   "metadata": {},
   "outputs": [
    {
     "name": "stderr",
     "output_type": "stream",
     "text": [
      "C:\\Users\\TBYC\\AppData\\Local\\Temp\\ipykernel_68908\\1891578375.py:22: RuntimeWarning: invalid value encountered in divide\n",
      "  vx=(vx-np.nanmean(vx,axis=0))/np.nanstd(vx,axis=0)\n",
      "C:\\Users\\TBYC\\AppData\\Local\\Temp\\ipykernel_68908\\1891578375.py:24: RuntimeWarning: invalid value encountered in divide\n",
      "  CN05_PRE=(CN05_PRE-np.nanmean(CN05_PRE,axis=0))/np.nanstd(CN05_PRE,axis=0)\n"
     ]
    }
   ],
   "source": [
    "import numpy as np\n",
    "vx=np.zeros((CMO_RPH.shape[0],CMO_RPH.shape[1],CMO_RPH.shape[2],10))\n",
    "vy=np.zeros((CN05_PRE.shape[0],CN05_PRE.shape[1],CN05_PRE.shape[2]),dtype='int32')\n",
    "CN05_PRE=CN05_PRE[:,::-1,:]\n",
    "CN05_PRE=np.nan_to_num(CN05_PRE,nan=0)\n",
    "vx[:,:,:,0]=CMO_RPH\n",
    "vx[:,:,:,1]=ERA5_PRE\n",
    "vx[:,:,:,2]=GPM_PRE\n",
    "vx[:,:,:,3]=GSMAP_PRE\n",
    "vx[:,:,:,4]=MSWEP_PRE\n",
    "vx[:,:,:,5]=PERSIANN_CDR_PRE\n",
    "vx[:,:,:,6]=td2m\n",
    "vx[:,:,:,7]=t2m\n",
    "vx[:,:,:,8]=sp\n",
    "vx[:,:,:,9]=sm\n",
    "vx=np.nan_to_num(vx,nan=0)\n",
    "for i in range(CN05_PRE.shape[1]):\n",
    "    for j in range(CN05_PRE.shape[2]):\n",
    "        vy[np.array(CN05_PRE[:,i,j])<0.1,i,j]=0\n",
    "        vy[np.array(CN05_PRE[:,i,j])>=0.1,i,j]=1\n",
    "\n",
    "vx=(vx-np.nanmean(vx,axis=0))/np.nanstd(vx,axis=0)\n",
    "vx=np.nan_to_num(vx,nan=0)\n",
    "CN05_PRE=(CN05_PRE-np.nanmean(CN05_PRE,axis=0))/np.nanstd(CN05_PRE,axis=0)\n",
    "CN05_PRE=np.nan_to_num(CN05_PRE,nan=0)"
   ]
  },
  {
   "cell_type": "code",
   "execution_count": 5,
   "id": "18ee5bc8-b3cf-406f-a296-f52b9c6b7c37",
   "metadata": {},
   "outputs": [
    {
     "name": "stdout",
     "output_type": "stream",
     "text": [
      "False False False\n"
     ]
    }
   ],
   "source": [
    "print(np.isnan(vx).any(),np.isnan(CN05_PRE).any(),np.isnan(vy).any())"
   ]
  },
  {
   "cell_type": "code",
   "execution_count": 6,
   "id": "5dc3196b-2c08-4a90-ab1b-b9ae80a3cf27",
   "metadata": {},
   "outputs": [
    {
     "name": "stdout",
     "output_type": "stream",
     "text": [
      "192/192 [==============================] - 11s 43ms/step\n"
     ]
    }
   ],
   "source": [
    "from keras.models import load_model\n",
    "import tensorflow as tf\n",
    "gpus = tf.config.list_physical_devices('GPU')\n",
    "if gpus:\n",
    "    try:\n",
    "        # 设置只使用 GPU 0\n",
    "        tf.config.set_visible_devices(gpus[1], 'GPU')\n",
    "        # 设置 GPU 0 的内存动态增长\n",
    "        tf.config.experimental.set_memory_growth(gpus[1], True)\n",
    "    except RuntimeError as e:\n",
    "        print(e)\n",
    "model=load_model(r'E:/xuanxuan/xuanxuan_unet_classify_CN05_morev_sm2')\n",
    "vx_last=model.predict(vx,batch_size=40)"
   ]
  },
  {
   "cell_type": "code",
   "execution_count": 7,
   "id": "74451586-55f9-40c3-90cd-fd00def3aa41",
   "metadata": {},
   "outputs": [],
   "source": [
    "vx_last[vx_last<=0.5]=0\n",
    "vx_last[vx_last>0.5]=1"
   ]
  },
  {
   "cell_type": "code",
   "execution_count": 8,
   "id": "cc8e2354-0e9b-4ef4-8438-a141ccaa7cdf",
   "metadata": {},
   "outputs": [],
   "source": [
    "vx_new=np.zeros((CMO_RPH.shape[0],CMO_RPH.shape[1],CMO_RPH.shape[2],11))\n",
    "vx_new[:,:,:,:10]=vx\n",
    "vx_new[:,:,:,10]=vx_last.reshape(vx_last.shape[0],vx_last.shape[1],vx_last.shape[2])"
   ]
  },
  {
   "cell_type": "code",
   "execution_count": 9,
   "id": "ba066fe2-b907-4fd1-8b04-76d8ba821329",
   "metadata": {},
   "outputs": [
    {
     "name": "stdout",
     "output_type": "stream",
     "text": [
      "False\n"
     ]
    }
   ],
   "source": [
    "print(np.isnan(vx_new).any())"
   ]
  },
  {
   "cell_type": "code",
   "execution_count": 10,
   "id": "3a5ad1a8-5dcf-434a-878d-b1fcb9754b98",
   "metadata": {},
   "outputs": [
    {
     "name": "stdout",
     "output_type": "stream",
     "text": [
      "39/39 [==============================] - 2s 49ms/step\n"
     ]
    }
   ],
   "source": [
    "from keras.models import load_model\n",
    "index=int((1-0.2)*CN05_PRE.shape[0])\n",
    "trainy=CN05_PRE[:index,:,:]\n",
    "testy=CN05_PRE[index:,:,:]\n",
    "trainx=vx_new[:index,:,:,:]\n",
    "testx=vx_new[index:,:,:,:]\n",
    "model=load_model(r'E:/xuanxuan/xuanxuan_unet_classify_regress_CN05_morev_sm2')\n",
    "predicty = model.predict(testx,batch_size=40)"
   ]
  },
  {
   "cell_type": "code",
   "execution_count": 16,
   "id": "9c86bfe4-ec51-468f-96c9-cc2e41789ac1",
   "metadata": {},
   "outputs": [
    {
     "name": "stdout",
     "output_type": "stream",
     "text": [
      "预报因子 1 对预报值 1 的贡献： 5.652795189101648 ％\n",
      "预报因子 2 对预报值 1 的贡献： -0.005549820100561639 ％\n",
      "预报因子 3 对预报值 1 的贡献： 1.398832903316962 ％\n",
      "预报因子 4 对预报值 1 的贡献： 1.7770452908968952 ％\n",
      "预报因子 5 对预报值 1 的贡献： 24.858924568615524 ％\n",
      "预报因子 6 对预报值 1 的贡献： 0.5187674964124562 ％\n",
      "预报因子 7 对预报值 1 的贡献： 22.610902268082725 ％\n",
      "预报因子 8 对预报值 1 的贡献： 20.039920193659707 ％\n",
      "预报因子 9 对预报值 1 的贡献： 1.3227602904411473 ％\n",
      "预报因子 10 对预报值 1 的贡献： 6.979238764269974 ％\n",
      "预报因子 11 对预报值 1 的贡献： 14.846362855303518 ％\n",
      "\n",
      "\n"
     ]
    }
   ],
   "source": [
    "import copy\n",
    "from sklearn import metrics\n",
    "import numpy as np\n",
    "testy=testy.reshape(testy.shape[0],testy.shape[1],testy.shape[2],1)\n",
    "predicty=predicty.reshape(predicty.shape[0],predicty.shape[1],predicty.shape[2],1)\n",
    "weights=np.zeros((testy.shape[3],testx.shape[3]))\n",
    "weight_more=np.zeros((testy.shape[3],testx.shape[3]))\n",
    "for i in range(testy.shape[3]):\n",
    "    for j in range(testx.shape[3]):\n",
    "        testx_new=copy.deepcopy(testx)\n",
    "        weight=[]\n",
    "        for k in range(10):\n",
    "            per=np.random.permutation(testx.shape[0])\n",
    "            testx_shuffle=testx[per,:,:,j]\n",
    "            testx_new[:,:,:,j]=testx_shuffle\n",
    "            predicty_new=np.array(model.predict(testx_new,batch_size=40,verbose=0))\n",
    "            for l in range(testy.shape[1]):\n",
    "                for m in range(testy.shape[2]):\n",
    "                    weight.append(metrics.mean_squared_error(testy[:,l,m,i],predicty_new[:,l,m,i])-metrics.mean_squared_error(testy[:,l,m,i],predicty[:,l,m,i]))\n",
    "        weight_more[i,j]=np.nanmean(weight)\n",
    "for i in range(testy.shape[3]):\n",
    "    for j in range(testx.shape[3]):\n",
    "        weights[i,j]=(weight_more[i,j]/np.nansum(weight_more[i,:]))*100\n",
    "        print('预报因子',j+1,'对预报值',i+1,'的贡献：',np.array(weights[i,j]),'％')\n",
    "    print('\\n')"
   ]
  },
  {
   "cell_type": "code",
   "execution_count": null,
   "id": "d43f15c2-1262-42ec-8226-6ee3d8a8f7e3",
   "metadata": {},
   "outputs": [],
   "source": []
  }
 ],
 "metadata": {
  "kernelspec": {
   "display_name": "tensorflow",
   "language": "python",
   "name": "tensorflow"
  },
  "language_info": {
   "codemirror_mode": {
    "name": "ipython",
    "version": 3
   },
   "file_extension": ".py",
   "mimetype": "text/x-python",
   "name": "python",
   "nbconvert_exporter": "python",
   "pygments_lexer": "ipython3",
   "version": "3.9.19"
  }
 },
 "nbformat": 4,
 "nbformat_minor": 5
}
